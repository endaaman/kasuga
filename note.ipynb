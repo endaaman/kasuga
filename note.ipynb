{
 "cells": [
  {
   "cell_type": "code",
   "execution_count": null,
   "id": "339bfc7d",
   "metadata": {},
   "outputs": [],
   "source": [
    "import pickle\n",
    "import pandas as pd\n",
    "import numpy as  np\n",
    "from matplotlib import pyplot as plt\n",
    "import seaborn as sns\n",
    "from IPython.display import display"
   ]
  },
  {
   "cell_type": "code",
   "execution_count": null,
   "id": "95ac1622",
   "metadata": {
    "lines_to_next_cell": 2
   },
   "outputs": [],
   "source": [
    "df = pd.read_csv('./data/gtex/GTEx_Analysis_2017-06-05_v8_RNASeQCv1.1.9_gene_tpm.gct', sep='\\t', skiprows=2, index_col=0)\n",
    "# print(df.shape)\n",
    "# In [9]: np.where(df.index.isin(['FBXO11',  'CIITA', 'HLA-DRA', ]))\n",
    "# Out[9]: (array([ 5820, 18006, 41214]),)\n",
    "\n",
    "# retrieve only 'FBXO11',  'CIITA', 'HLA-DRA'\n",
    "skip = np.arange(56203)\n",
    "# skip = np.delete(skip, [2, 5822, 18008, 41216])\n",
    "skip = np.delete(skip, [2, 5823, 18009, 41217])\n",
    "df = pd.read_csv('./data/gtex/GTEx_Analysis_2017-06-05_v8_RNASeQCv1.1.9_gene_tpm.gct', sep='\\t', skiprows=skip, index_col=1)\n",
    "df.to_pickle('data/gtex/v8cache.pickle')"
   ]
  },
  {
   "cell_type": "code",
   "execution_count": null,
   "id": "48a28376",
   "metadata": {},
   "outputs": [],
   "source": [
    "with open('data/gtex/v8cache.pickle', 'rb') as f:\n",
    "    df = pickle.load(f)\n",
    "\n",
    "df = df.drop(columns=['Name']).T\n",
    "\n",
    "ll = pd.read_csv('./data/gtex/GTEx_Analysis_v8_Annotations_SampleAttributesDS.txt', sep='\\t',  index_col=0)['SMTS']\n",
    "\n",
    "mm = pd.merge(df, ll, how='left', left_index=True, right_index=True)\n",
    "\n",
    "target_cols = ['FBXO11', 'CIITA', 'HLA-DRA']\n",
    "tmps = []\n",
    "for col in target_cols:\n",
    "    tmp = mm[['SMTS', col]]\n",
    "    tmp = tmp.rename(columns={col: 'value'})\n",
    "    tmp['gene'] = col\n",
    "    tmps.append(tmp)\n",
    "\n",
    "vv = pd.concat(tmps)\n",
    "vv['value'] = np.log2(vv['value'] )"
   ]
  },
  {
   "cell_type": "code",
   "execution_count": null,
   "id": "ca544f0f",
   "metadata": {},
   "outputs": [],
   "source": [
    "\n",
    "# 3遺伝子セットで組織ごとにプロット\n",
    "fig = plt.figure()\n",
    "split_count = 4\n",
    "for i, cols in enumerate(np.array_split(vv['SMTS'].unique(), split_count)):\n",
    "    ax = fig.add_subplot(split_count, 1, i + 1)\n",
    "    v = vv[vv['SMTS'].isin(cols)]\n",
    "    sns.violinplot(x='SMTS', y='value', data=v, hue='gene', dodge=True,\n",
    "                  jitter=True, color='black', palette='Set3', ax=ax)\n",
    "    ax.set_ylabel('log2(TPM)')\n",
    "    ax.tick_params(axis='x', labelrotation=45)\n",
    "    ax.legend(loc='center left', bbox_to_anchor=(1, 0.7))\n",
    "\n",
    "plt.subplots_adjust(hspace=0.6)\n",
    "plt.show()\n",
    "plt.close()"
   ]
  },
  {
   "cell_type": "code",
   "execution_count": null,
   "id": "145b09f6",
   "metadata": {
    "lines_to_next_cell": 2
   },
   "outputs": [],
   "source": [
    "\n",
    "# 遺伝子別に組織ごとにプロット\n",
    "fig = plt.figure()\n",
    "for i, col in enumerate(target_cols):\n",
    "    ax = fig.add_subplot(len(target_cols), 1, i + 1)\n",
    "    v = vv[vv['gene'] == col]\n",
    "    ax.set_title(col)\n",
    "    sns.violinplot(x='SMTS', y='value', data=v, dodge=True,\n",
    "                  jitter=True, color='black', palette='Set3', ax=ax)\n",
    "    ax.set_ylabel('log2(TPM)')\n",
    "    ax.tick_params(axis='x', labelrotation=45)\n",
    "\n",
    "plt.subplots_adjust(hspace=0.6)\n",
    "plt.show()\n",
    "plt.close()"
   ]
  },
  {
   "cell_type": "code",
   "execution_count": null,
   "id": "0d45a1c0",
   "metadata": {
    "lines_to_next_cell": 2
   },
   "outputs": [],
   "source": [
    "from itertools import combinations\n",
    "\n",
    "# 部位ごとの3遺伝子の相関、p valueを算出\n",
    "\n",
    "ii = vv.groupby('SMTS')\n",
    "\n",
    "for (i, v) in ii:\n",
    "    print(i)\n",
    "    print(v.shape)\n",
    "    for (a, b) in combinations(target_cols, 2):\n",
    "        aa = v[a]\n",
    "        bb = v[b]\n",
    "        r = np.corrcoef(aa, bb)[0][1]\n",
    "        print(r)"
   ]
  }
 ],
 "metadata": {
  "kernelspec": {
   "display_name": "Python 3 (ipykernel)",
   "language": "python",
   "name": "python3"
  },
  "language_info": {
   "codemirror_mode": {
    "name": "ipython",
    "version": 3
   },
   "file_extension": ".py",
   "mimetype": "text/x-python",
   "name": "python",
   "nbconvert_exporter": "python",
   "pygments_lexer": "ipython3",
   "version": "3.8.12"
  }
 },
 "nbformat": 4,
 "nbformat_minor": 5
}
