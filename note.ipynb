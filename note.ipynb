{
 "cells": [
  {
   "cell_type": "code",
   "execution_count": null,
   "id": "95ac1622",
   "metadata": {
    "lines_to_next_cell": 2
   },
   "outputs": [],
   "source": [
    "import pandas as pd\n",
    "\n",
    "# df = pd.read_csv('./data/gtex/GTEx_Analysis_2017-06-05_v8_RNASeQCv1.1.9_gene_tpm.gct', sep='\\t', skiprows=2, index_col=0)\n",
    "# print(df.shape)\n",
    "\n",
    "# In [9]: np.where(df.index.isin(['FBXO11',  'CIITA', 'HLA-DRA', ]))\n",
    "# Out[9]: (array([ 5820, 18006, 41214]),)\n",
    "\n",
    "skip = np.arange(56203)\n",
    "# skip = np.delete(skip, [2, 5822, 18008, 41216])\n",
    "skip = np.delete(skip, [2, 5823, 18009, 41217])\n",
    "\n",
    "df = pd.read_csv('./data/gtex/GTEx_Analysis_2017-06-05_v8_RNASeQCv1.1.9_gene_tpm.gct', sep='\\t', skiprows=skip, index_col=1)\n",
    "\n",
    "# df.to_pickle('data/gtex/cache.pickle')"
   ]
  },
  {
   "cell_type": "code",
   "execution_count": null,
   "id": "48a28376",
   "metadata": {},
   "outputs": [],
   "source": [
    "import pickle\n",
    "\n",
    "with open('data/gtex/cache.pickle', 'rb') as f:\n",
    "    df = pickle.load(f)\n",
    "\n",
    "df = df.drop(columns=['Name'])"
   ]
  },
  {
   "cell_type": "code",
   "execution_count": null,
   "id": "a2573c02",
   "metadata": {},
   "outputs": [],
   "source": [
    "\n",
    "labels = pd.read_csv('./data/gtex/GTEx_Analysis_v8_Annotations_SampleAttributesDS.txt', sep='\\t',  index_col=0)['SMTS']"
   ]
  },
  {
   "cell_type": "code",
   "execution_count": null,
   "id": "e6c753dd",
   "metadata": {
    "lines_to_next_cell": 2
   },
   "outputs": [],
   "source": []
  },
  {
   "cell_type": "code",
   "execution_count": null,
   "id": "145b09f6",
   "metadata": {
    "lines_to_next_cell": 2
   },
   "outputs": [],
   "source": []
  }
 ],
 "metadata": {
  "kernelspec": {
   "display_name": "Python 3 (ipykernel)",
   "language": "python",
   "name": "python3"
  },
  "language_info": {
   "codemirror_mode": {
    "name": "ipython",
    "version": 3
   },
   "file_extension": ".py",
   "mimetype": "text/x-python",
   "name": "python",
   "nbconvert_exporter": "python",
   "pygments_lexer": "ipython3",
   "version": "3.8.12"
  }
 },
 "nbformat": 4,
 "nbformat_minor": 5
}
